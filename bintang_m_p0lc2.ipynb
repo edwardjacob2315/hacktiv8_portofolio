{
 "cells": [
  {
   "cell_type": "markdown",
   "id": "dfbb96c7-d0c1-424c-aef3-409b27c22735",
   "metadata": {
    "tags": []
   },
   "source": [
    "# Perkenalan"
   ]
  },
  {
   "cell_type": "markdown",
   "id": "ed8e7cdc-acb3-48bf-a16a-5fc9a4648d65",
   "metadata": {},
   "source": [
    "Nama: Bintang Muhammad <br>\n",
    "Course: Data Science <br>\n",
    "Batch: 6 <br>"
   ]
  },
  {
   "cell_type": "markdown",
   "id": "fd0da37a-bb47-49c4-8a98-6fad5e4ab54a",
   "metadata": {},
   "source": [
    "# Judul/Penanda Soal"
   ]
  },
  {
   "cell_type": "markdown",
   "id": "aaf4a674-ed38-4c55-b53d-adf28a45e639",
   "metadata": {},
   "source": [
    "1. Buatlah vektor yang merupakan representasi masing-masing kalimat berdasarkan tabel di atas dan hitung cosine similarity antar kedua vektor.\n",
    "2. Tentukan luas negara Swiss jika diketahui koordinat batas-batasnya"
   ]
  },
  {
   "cell_type": "markdown",
   "id": "0bfba91b-36e1-40ad-8825-b2e1c3438805",
   "metadata": {
    "tags": []
   },
   "source": [
    "# Import Library"
   ]
  },
  {
   "cell_type": "code",
   "execution_count": 122,
   "id": "a74a9e33-5cbd-4bcd-b702-d61486757df9",
   "metadata": {},
   "outputs": [],
   "source": [
    "#import library\n",
    "import pandas as pd\n",
    "import numpy as np\n",
    "import scipy as sp\n",
    "from scipy import integrate\n",
    "from scipy.integrate import trapz"
   ]
  },
  {
   "cell_type": "markdown",
   "id": "2955ce7d-2288-47f9-8f70-c4e951630f48",
   "metadata": {
    "tags": []
   },
   "source": [
    "# Data Loading"
   ]
  },
  {
   "cell_type": "code",
   "execution_count": 123,
   "id": "77e9a975-f4b6-464a-a677-4c1eaf3dbea2",
   "metadata": {},
   "outputs": [],
   "source": [
    "#data kalimat in vector\n",
    "kalimat1= [2,0,1,1,0,2,1,1]\n",
    "kalimat2= [2,1,1,0,1,1,1,1]"
   ]
  },
  {
   "cell_type": "markdown",
   "id": "c123d92b-444e-4917-9221-d3ef60909143",
   "metadata": {},
   "source": [
    "- Both the vector i create below order is same like in ['me', 'Jane', 'Julia', 'Linda', 'likes' , 'loves', 'more', 'than']"
   ]
  },
  {
   "cell_type": "code",
   "execution_count": 124,
   "id": "ff1c88fa-7a5e-40fb-bec0-ae34d9d83398",
   "metadata": {},
   "outputs": [
    {
     "data": {
      "text/plain": [
       "array([2, 0, 1, 1, 0, 2, 1, 1])"
      ]
     },
     "execution_count": 124,
     "metadata": {},
     "output_type": "execute_result"
    }
   ],
   "source": [
    "#change to array\n",
    "kal1=np.array(kalimat1)\n",
    "kal1"
   ]
  },
  {
   "cell_type": "code",
   "execution_count": 125,
   "id": "c6fedd1f-499b-4aef-9b2a-51a882fca1ba",
   "metadata": {},
   "outputs": [
    {
     "data": {
      "text/plain": [
       "array([2, 1, 1, 0, 1, 1, 1, 1])"
      ]
     },
     "execution_count": 125,
     "metadata": {},
     "output_type": "execute_result"
    }
   ],
   "source": [
    "#change to array\n",
    "kal2=np.array(kalimat2)\n",
    "kal2"
   ]
  },
  {
   "cell_type": "code",
   "execution_count": 126,
   "id": "fc4a79d1-4899-4e73-bf38-eebddf459bdf",
   "metadata": {},
   "outputs": [],
   "source": [
    "#load swiss data\n",
    "swiss=pd.read_csv('https://raw.githubusercontent.com/fahmimnalfrzki/Dataset/main/Swiss_boundaries.txt?token=AEZDEHXBTS7OMF32RTYPKZDA2FELA')"
   ]
  },
  {
   "cell_type": "code",
   "execution_count": 127,
   "id": "5bb0bde0-890a-47f6-b05e-389580301b32",
   "metadata": {},
   "outputs": [
    {
     "data": {
      "text/html": [
       "<div>\n",
       "<style scoped>\n",
       "    .dataframe tbody tr th:only-of-type {\n",
       "        vertical-align: middle;\n",
       "    }\n",
       "\n",
       "    .dataframe tbody tr th {\n",
       "        vertical-align: top;\n",
       "    }\n",
       "\n",
       "    .dataframe thead th {\n",
       "        text-align: right;\n",
       "    }\n",
       "</style>\n",
       "<table border=\"1\" class=\"dataframe\">\n",
       "  <thead>\n",
       "    <tr style=\"text-align: right;\">\n",
       "      <th></th>\n",
       "      <th>longitude</th>\n",
       "      <th>latitude</th>\n",
       "    </tr>\n",
       "  </thead>\n",
       "  <tbody>\n",
       "    <tr>\n",
       "      <th>0</th>\n",
       "      <td>9.56672</td>\n",
       "      <td>47.54045</td>\n",
       "    </tr>\n",
       "    <tr>\n",
       "      <th>1</th>\n",
       "      <td>9.55980</td>\n",
       "      <td>47.50209</td>\n",
       "    </tr>\n",
       "    <tr>\n",
       "      <th>2</th>\n",
       "      <td>9.59660</td>\n",
       "      <td>47.46944</td>\n",
       "    </tr>\n",
       "    <tr>\n",
       "      <th>3</th>\n",
       "      <td>9.64965</td>\n",
       "      <td>47.45861</td>\n",
       "    </tr>\n",
       "    <tr>\n",
       "      <th>4</th>\n",
       "      <td>9.67035</td>\n",
       "      <td>47.39069</td>\n",
       "    </tr>\n",
       "  </tbody>\n",
       "</table>\n",
       "</div>"
      ],
      "text/plain": [
       "   longitude  latitude\n",
       "0    9.56672  47.54045\n",
       "1    9.55980  47.50209\n",
       "2    9.59660  47.46944\n",
       "3    9.64965  47.45861\n",
       "4    9.67035  47.39069"
      ]
     },
     "execution_count": 127,
     "metadata": {},
     "output_type": "execute_result"
    }
   ],
   "source": [
    "#view data\n",
    "\n",
    "swiss.head()"
   ]
  },
  {
   "cell_type": "code",
   "execution_count": 128,
   "id": "5ba0ade1-6a3b-4df3-97b8-c157a39f816b",
   "metadata": {},
   "outputs": [
    {
     "name": "stdout",
     "output_type": "stream",
     "text": [
      "<class 'pandas.core.frame.DataFrame'>\n",
      "RangeIndex: 278 entries, 0 to 277\n",
      "Data columns (total 2 columns):\n",
      " #   Column     Non-Null Count  Dtype  \n",
      "---  ------     --------------  -----  \n",
      " 0   longitude  278 non-null    float64\n",
      " 1   latitude   278 non-null    float64\n",
      "dtypes: float64(2)\n",
      "memory usage: 4.5 KB\n"
     ]
    }
   ],
   "source": [
    "#view data info\n",
    "swiss.info()"
   ]
  },
  {
   "cell_type": "markdown",
   "id": "452d7825-d21d-47af-bd3b-f72db58c1c38",
   "metadata": {},
   "source": [
    "- longitude adalah sumbu x\n",
    "- latitude adalah sumbu y\n",
    "- data terdiri atas 2 kolom\n",
    "- data terdiri atas 278 baris\n",
    "- tipe data longitude dan latitude adalah float\n"
   ]
  },
  {
   "cell_type": "code",
   "execution_count": 129,
   "id": "942c074b-9251-4eca-b499-31c243d3722c",
   "metadata": {},
   "outputs": [],
   "source": [
    "#change to array\n",
    "swiss_ar=np.array(swiss)"
   ]
  },
  {
   "cell_type": "markdown",
   "id": "c64d089b-4556-444e-b20f-267b09aba4dc",
   "metadata": {
    "tags": []
   },
   "source": [
    "# Mathematical Calculations"
   ]
  },
  {
   "cell_type": "markdown",
   "id": "2a7c9301-ff48-4625-b0c7-7919f5ce93cc",
   "metadata": {
    "tags": []
   },
   "source": [
    "## Soal 1"
   ]
  },
  {
   "cell_type": "markdown",
   "id": "f9fe9d15-873e-4936-8bb5-31d083ddc631",
   "metadata": {},
   "source": [
    "Buatlah vektor yang merupakan representasi masing-masing kalimat berdasarkan tabel di atas dan hitung cosine similarity antar kedua vektor. Apakah kedua kalimat memiliki konteks yang serupa? jika iya, mengapa dan jika tidak, mengapa (jawab berdasarkan hasil perhitungan cosine similaritynya)?"
   ]
  },
  {
   "cell_type": "code",
   "execution_count": 130,
   "id": "16b95ee3-2a12-405a-b438-9e1869d15bf5",
   "metadata": {},
   "outputs": [
    {
     "name": "stdout",
     "output_type": "stream",
     "text": [
      "9\n",
      "10.954451150103322\n"
     ]
    }
   ],
   "source": [
    "#menghitung pembilang\n",
    "\n",
    "num=kal1.dot(kal2)\n",
    "print(num)\n",
    "\n",
    "#menghitung penyebut\n",
    "denum=np.sqrt(sum(np.square(kal1)))*np.sqrt(sum(np.square(kal2)))\n",
    "print(denum)"
   ]
  },
  {
   "cell_type": "code",
   "execution_count": 131,
   "id": "30c13977-a42a-470e-8478-3f69ff3f4574",
   "metadata": {},
   "outputs": [
    {
     "name": "stdout",
     "output_type": "stream",
     "text": [
      "0.8215838362577491\n"
     ]
    }
   ],
   "source": [
    "#menghitung cosine similarity\n",
    "\n",
    "cos_sim=num/denum\n",
    "print(cos_sim)"
   ]
  },
  {
   "cell_type": "markdown",
   "id": "10cb200f-7fcc-4af9-b6e3-d89d03e29c0a",
   "metadata": {
    "tags": []
   },
   "source": [
    "## Soal 2"
   ]
  },
  {
   "cell_type": "markdown",
   "id": "71c1b703-5c5e-4260-aec3-0a9fdf3472dc",
   "metadata": {},
   "source": [
    "Menggunakan konsep integral untuk menghitung luas dibawah kurva, tentukan luas negara Swiss jika diketahui koordinat batas-batasnya! \n",
    "\n",
    "- Longitude adalah sumbu x dan latitude adalah sumbu y nya.\n",
    "- Wilayah Swiss dapat dibagi menjadi dua bagian yaitu Northern dan Southern (dapat menggunakan acuan nilai tengah latitude dimana nilai maksimum ditambah nilai minimum lalu dibagi dua. Di atas nilai tengah northern dan di bawah nilai tengah southern) supaya mempermudah dalam menghitung Integral\n",
    "- Tidak perlu memperhatikan satuan"
   ]
  },
  {
   "cell_type": "code",
   "execution_count": 132,
   "id": "df64e8dd-3ea6-4203-bbda-556c8e4eaab8",
   "metadata": {},
   "outputs": [],
   "source": [
    "#calculate middle border\n",
    "mid_lat=(max(swiss['latitude'])+min(swiss['latitude']))/2\n",
    "\n",
    "#calculate lower and upper\n",
    "upper = swiss[swiss['latitude'] > mid_lat]\n",
    "lower = swiss[swiss['latitude'] < mid_lat]"
   ]
  },
  {
   "cell_type": "code",
   "execution_count": 133,
   "id": "bba26292-6667-46c3-a927-958af2364832",
   "metadata": {},
   "outputs": [
    {
     "name": "stdout",
     "output_type": "stream",
     "text": [
      "186.3710114624007\n"
     ]
    }
   ],
   "source": [
    "#count the swiss total area\n",
    "swiss_area = trapz(upper['latitude'],upper['longitude']) - trapz(lower['latitude'],lower['longitude']) \n",
    "\n",
    "print(swiss_area)"
   ]
  },
  {
   "cell_type": "markdown",
   "id": "e92b1c95-fda8-418b-b6e3-80d336cc099b",
   "metadata": {},
   "source": [
    "# Hasil"
   ]
  },
  {
   "cell_type": "markdown",
   "id": "70adb8bb-9153-4ddd-af73-32db59af067f",
   "metadata": {
    "tags": []
   },
   "source": [
    "## Cosine Similarity"
   ]
  },
  {
   "cell_type": "code",
   "execution_count": 134,
   "id": "dbea93a8-b1e1-4fa7-ad8f-c40707fbafdd",
   "metadata": {},
   "outputs": [
    {
     "data": {
      "text/plain": [
       "0.8215838362577491"
      ]
     },
     "execution_count": 134,
     "metadata": {},
     "output_type": "execute_result"
    }
   ],
   "source": [
    "#show cos_sim\n",
    "\n",
    "cos_sim"
   ]
  },
  {
   "cell_type": "markdown",
   "id": "7af30339-d81a-4061-9ab6-e5afda65c42c",
   "metadata": {},
   "source": [
    "- The cosine similarity have the value of 0,821 this value is closer to 1\n",
    "- This means that the value is closer to 1\n",
    "- The closer the value to one, means that the angle is smaller\n",
    "- And the vector is more similar to each other"
   ]
  },
  {
   "cell_type": "markdown",
   "id": "c9b46529-4291-4fa1-a9ed-522d16aa3ffc",
   "metadata": {
    "tags": []
   },
   "source": [
    "## Swiss Area Wide"
   ]
  },
  {
   "cell_type": "code",
   "execution_count": 135,
   "id": "7c9c5944-8c42-4eea-bbef-2df8964d743e",
   "metadata": {},
   "outputs": [
    {
     "data": {
      "text/plain": [
       "186.3710114624007"
      ]
     },
     "execution_count": 135,
     "metadata": {},
     "output_type": "execute_result"
    }
   ],
   "source": [
    "#show swiss area wide\n",
    "\n",
    "swiss_area"
   ]
  },
  {
   "cell_type": "code",
   "execution_count": 136,
   "id": "c4221153-e739-4009-b2d1-fa0a3191472b",
   "metadata": {},
   "outputs": [
    {
     "data": {
      "text/plain": [
       "[<matplotlib.lines.Line2D at 0x177fd7221c0>]"
      ]
     },
     "execution_count": 136,
     "metadata": {},
     "output_type": "execute_result"
    },
    {
     "data": {
      "image/png": "[encoded data removed]",
      "text/plain": [
       "<Figure size 432x288 with 1 Axes>"
      ]
     },
     "metadata": {
      "needs_background": "light"
     },
     "output_type": "display_data"
    }
   ],
   "source": [
    "#show plot to show image map\n",
    "\n",
    "plt.plot(upper['longitude'],upper['latitude'])\n",
    "plt.plot(lower['longitude'],lower['latitude'])"
   ]
  },
  {
   "cell_type": "markdown",
   "id": "1d7f740a-f8ee-44a4-b6b1-1c4fa37915a1",
   "metadata": {},
   "source": [
    "- The Area of the country swiss is 186.37\n",
    "- The plot shows the visual image map of the country Swiss"
   ]
  }
 ],
 "metadata": {
  "kernelspec": {
   "display_name": "Python 3 (ipykernel)",
   "language": "python",
   "name": "python3"
  },
  "language_info": {
   "codemirror_mode": {
    "name": "ipython",
    "version": 3
   },
   "file_extension": ".py",
   "mimetype": "text/x-python",
   "name": "python",
   "nbconvert_exporter": "python",
   "pygments_lexer": "ipython3",
   "version": "3.9.7"
  }
 },
 "nbformat": 4,
 "nbformat_minor": 5
}
