{
 "cells": [
  {
   "cell_type": "markdown",
   "id": "683b2ed9-3aa5-46a8-8625-7fd8bc0c9a2e",
   "metadata": {
    "tags": []
   },
   "source": [
    "# Perkenalan"
   ]
  },
  {
   "cell_type": "markdown",
   "id": "40982384-998f-4156-98f9-d1c34b16388a",
   "metadata": {},
   "source": [
    "Nama: Bintang Muhammad <br>\n",
    "Course: Data Science <br>\n",
    "Batch: 6 <br>\n"
   ]
  },
  {
   "cell_type": "markdown",
   "id": "56a359c8-7232-4ed6-909e-e76802d8f6fa",
   "metadata": {},
   "source": [
    "# Judul/Penanda Soal"
   ]
  },
  {
   "cell_type": "markdown",
   "id": "2c70da27-8d12-4f10-b12f-a1710bf0eb41",
   "metadata": {},
   "source": [
    "1. Central Tendency Data E - commerce\n",
    "2. Hipothesis Testing di E - Commerce"
   ]
  },
  {
   "cell_type": "markdown",
   "id": "19ffa696-b74b-44df-a0fc-f5314f07190a",
   "metadata": {
    "tags": []
   },
   "source": [
    "# Import Library"
   ]
  },
  {
   "cell_type": "code",
   "execution_count": 260,
   "id": "343d662f-7f9d-40b6-bac4-c10b3a5d7445",
   "metadata": {},
   "outputs": [],
   "source": [
    "#import libraries\n",
    "\n",
    "import pandas as pd\n",
    "import numpy as np\n",
    "from scipy import stats\n",
    "import datetime as dt"
   ]
  },
  {
   "cell_type": "markdown",
   "id": "3df925d8-54cc-4e40-94c0-74f71b48ce18",
   "metadata": {
    "tags": []
   },
   "source": [
    "# Data Loading"
   ]
  },
  {
   "cell_type": "code",
   "execution_count": 261,
   "id": "2f9b78a1-825b-4cc8-9790-2e74b1e39c49",
   "metadata": {},
   "outputs": [],
   "source": [
    "#load data\n",
    "df=pd.read_csv('https://raw.githubusercontent.com/fahmimnalfrzki/Dataset/main/purchase_data.txt?token=AEZDEHRU5YLQEXGDDLCL6CLA2KZTI', sep=';')"
   ]
  },
  {
   "cell_type": "code",
   "execution_count": 262,
   "id": "000c6039-d7f6-419f-9edb-95cdb0db7ecb",
   "metadata": {},
   "outputs": [
    {
     "data": {
      "text/html": [
       "<div>\n",
       "<style scoped>\n",
       "    .dataframe tbody tr th:only-of-type {\n",
       "        vertical-align: middle;\n",
       "    }\n",
       "\n",
       "    .dataframe tbody tr th {\n",
       "        vertical-align: top;\n",
       "    }\n",
       "\n",
       "    .dataframe thead th {\n",
       "        text-align: right;\n",
       "    }\n",
       "</style>\n",
       "<table border=\"1\" class=\"dataframe\">\n",
       "  <thead>\n",
       "    <tr style=\"text-align: right;\">\n",
       "      <th></th>\n",
       "      <th>user_id</th>\n",
       "      <th>timestamp</th>\n",
       "      <th>group</th>\n",
       "      <th>landing_page</th>\n",
       "      <th>purchased</th>\n",
       "    </tr>\n",
       "  </thead>\n",
       "  <tbody>\n",
       "    <tr>\n",
       "      <th>0</th>\n",
       "      <td>851104</td>\n",
       "      <td>2017-01-21 22:11:48.556739</td>\n",
       "      <td>control</td>\n",
       "      <td>old_page</td>\n",
       "      <td>0</td>\n",
       "    </tr>\n",
       "    <tr>\n",
       "      <th>1</th>\n",
       "      <td>804228</td>\n",
       "      <td>2017-01-12 08:01:45.159739</td>\n",
       "      <td>control</td>\n",
       "      <td>old_page</td>\n",
       "      <td>0</td>\n",
       "    </tr>\n",
       "    <tr>\n",
       "      <th>2</th>\n",
       "      <td>661590</td>\n",
       "      <td>2017-01-11 16:55:06.154213</td>\n",
       "      <td>treatment</td>\n",
       "      <td>new_page</td>\n",
       "      <td>0</td>\n",
       "    </tr>\n",
       "    <tr>\n",
       "      <th>3</th>\n",
       "      <td>853541</td>\n",
       "      <td>2017-01-08 18:28:03.143765</td>\n",
       "      <td>treatment</td>\n",
       "      <td>new_page</td>\n",
       "      <td>0</td>\n",
       "    </tr>\n",
       "    <tr>\n",
       "      <th>4</th>\n",
       "      <td>864975</td>\n",
       "      <td>2017-01-21 01:52:26.210827</td>\n",
       "      <td>control</td>\n",
       "      <td>old_page</td>\n",
       "      <td>1</td>\n",
       "    </tr>\n",
       "  </tbody>\n",
       "</table>\n",
       "</div>"
      ],
      "text/plain": [
       "   user_id                   timestamp      group landing_page  purchased\n",
       "0   851104  2017-01-21 22:11:48.556739    control     old_page          0\n",
       "1   804228  2017-01-12 08:01:45.159739    control     old_page          0\n",
       "2   661590  2017-01-11 16:55:06.154213  treatment     new_page          0\n",
       "3   853541  2017-01-08 18:28:03.143765  treatment     new_page          0\n",
       "4   864975  2017-01-21 01:52:26.210827    control     old_page          1"
      ]
     },
     "execution_count": 262,
     "metadata": {},
     "output_type": "execute_result"
    }
   ],
   "source": [
    "#preview data\n",
    "df.head(5)"
   ]
  },
  {
   "cell_type": "markdown",
   "id": "b862f4c7-049d-4f42-985c-9beb144d1f4d",
   "metadata": {},
   "source": [
    "Data Features Info"
   ]
  },
  {
   "cell_type": "markdown",
   "id": "7f4aa5df-0ea2-4a56-b5c5-b79f036ab8a0",
   "metadata": {},
   "source": [
    "| Features | Description |\n",
    "|-----------|-----------|\n",
    "| user_id | id pelanggan\n",
    "|timestamp | Waktu ketika pelanggan mengakses laman web\n",
    "|group | grup kontrol dan treatment\n",
    "|landing_page | landing page yang diakses oleh pelanggan (laman lama atau laman baru)\n",
    "|purchased | 0 : tidak ada pembelian, and 1: ada pembelian"
   ]
  },
  {
   "cell_type": "code",
   "execution_count": 263,
   "id": "ac0d2e55-dbfe-492c-b0ec-7388fe898bb1",
   "metadata": {},
   "outputs": [
    {
     "name": "stdout",
     "output_type": "stream",
     "text": [
      "<class 'pandas.core.frame.DataFrame'>\n",
      "RangeIndex: 294478 entries, 0 to 294477\n",
      "Data columns (total 5 columns):\n",
      " #   Column        Non-Null Count   Dtype \n",
      "---  ------        --------------   ----- \n",
      " 0   user_id       294478 non-null  int64 \n",
      " 1   timestamp     294478 non-null  object\n",
      " 2   group         294478 non-null  object\n",
      " 3   landing_page  294478 non-null  object\n",
      " 4   purchased     294478 non-null  int64 \n",
      "dtypes: int64(2), object(3)\n",
      "memory usage: 11.2+ MB\n"
     ]
    }
   ],
   "source": [
    "#view dataframe info\n",
    "df.info()"
   ]
  },
  {
   "cell_type": "markdown",
   "id": "12257163-405d-4343-b564-6ef544248993",
   "metadata": {},
   "source": [
    "- Data terdiri dari 294478 baris\n",
    "- Data memiliki 5 Fitur\n",
    "- Tidak ada null values di data berdasarkan df info"
   ]
  },
  {
   "cell_type": "code",
   "execution_count": 264,
   "id": "f4aaf753-80c1-41f1-9b61-caf0fc64e9d1",
   "metadata": {},
   "outputs": [
    {
     "data": {
      "text/plain": [
       "array(['control', 'treatment'], dtype=object)"
      ]
     },
     "execution_count": 264,
     "metadata": {},
     "output_type": "execute_result"
    }
   ],
   "source": [
    "#see uniqe values in group featoures\n",
    "df['group'].unique()"
   ]
  },
  {
   "cell_type": "markdown",
   "id": "159316da-b888-4766-b913-96b3a035efb1",
   "metadata": {},
   "source": [
    "- This column only consist of 2 unique values"
   ]
  },
  {
   "cell_type": "code",
   "execution_count": 265,
   "id": "8d86ab50-b4d2-4e27-975a-a74652add709",
   "metadata": {},
   "outputs": [
    {
     "data": {
      "text/plain": [
       "array(['old_page', 'new_page'], dtype=object)"
      ]
     },
     "execution_count": 265,
     "metadata": {},
     "output_type": "execute_result"
    }
   ],
   "source": [
    "#see uniqe values in landing page featoures\n",
    "df['landing_page'].unique()"
   ]
  },
  {
   "cell_type": "markdown",
   "id": "e76ad1ae-83c5-4b2a-bf3e-03b4e6784ede",
   "metadata": {},
   "source": [
    "- This column only consist of 2 unique values"
   ]
  },
  {
   "cell_type": "code",
   "execution_count": 266,
   "id": "87879d25-b70e-47a2-b0cc-0c823ee95a96",
   "metadata": {},
   "outputs": [
    {
     "data": {
      "text/plain": [
       "array([0, 1], dtype=int64)"
      ]
     },
     "execution_count": 266,
     "metadata": {},
     "output_type": "execute_result"
    }
   ],
   "source": [
    "#see uniqe values in purchased featoures\n",
    "df['purchased'].unique()"
   ]
  },
  {
   "cell_type": "markdown",
   "id": "5946ba93-10ff-4f0b-9d4f-c519ee0b5013",
   "metadata": {},
   "source": [
    "- This column only consist of 2 unique values"
   ]
  },
  {
   "cell_type": "markdown",
   "id": "a0c79c68-90f0-4ca0-93e0-ccfd39d21700",
   "metadata": {
    "tags": []
   },
   "source": [
    "# Data Processing"
   ]
  },
  {
   "cell_type": "code",
   "execution_count": 267,
   "id": "07ef4960-da4e-4657-a1bb-b2fe21158fe1",
   "metadata": {},
   "outputs": [
    {
     "data": {
      "text/plain": [
       "user_id         0\n",
       "timestamp       0\n",
       "group           0\n",
       "landing_page    0\n",
       "purchased       0\n",
       "dtype: int64"
      ]
     },
     "execution_count": 267,
     "metadata": {},
     "output_type": "execute_result"
    }
   ],
   "source": [
    "# check null values\n",
    "df.isna().sum()"
   ]
  },
  {
   "cell_type": "markdown",
   "id": "f29e9501-a580-4ead-8a58-46fbce37385a",
   "metadata": {},
   "source": [
    "- based on df.isna, there is no null values on the data"
   ]
  },
  {
   "cell_type": "code",
   "execution_count": 268,
   "id": "43d72fd8-134d-4186-ac9c-566f7fe65d63",
   "metadata": {},
   "outputs": [
    {
     "name": "stdout",
     "output_type": "stream",
     "text": [
      "<class 'pandas.core.frame.DataFrame'>\n",
      "RangeIndex: 294478 entries, 0 to 294477\n",
      "Data columns (total 5 columns):\n",
      " #   Column        Non-Null Count   Dtype \n",
      "---  ------        --------------   ----- \n",
      " 0   user_id       294478 non-null  int64 \n",
      " 1   timestamp     294478 non-null  object\n",
      " 2   group         294478 non-null  object\n",
      " 3   landing_page  294478 non-null  object\n",
      " 4   purchased     294478 non-null  int64 \n",
      "dtypes: int64(2), object(3)\n",
      "memory usage: 11.2+ MB\n"
     ]
    }
   ],
   "source": [
    "#check data type\n",
    "df.info()"
   ]
  },
  {
   "cell_type": "markdown",
   "id": "1539ee5b-721e-4380-bc13-6fc16862dbe1",
   "metadata": {},
   "source": [
    "- based on this info, there is 3 variables that must be changed to another data type, that is pruchased, timestamp and user id"
   ]
  },
  {
   "cell_type": "code",
   "execution_count": 269,
   "id": "b2bc1f94-2b73-4ab8-a615-0e861b185bd5",
   "metadata": {},
   "outputs": [],
   "source": [
    "#change data type to correct data type\n",
    "df=df.astype({'purchased':'object','user_id':'object','timestamp':'datetime64[ms]'})"
   ]
  },
  {
   "cell_type": "code",
   "execution_count": 270,
   "id": "f22b54f3-a1c6-4853-aa78-05521173556a",
   "metadata": {},
   "outputs": [
    {
     "data": {
      "text/html": [
       "<div>\n",
       "<style scoped>\n",
       "    .dataframe tbody tr th:only-of-type {\n",
       "        vertical-align: middle;\n",
       "    }\n",
       "\n",
       "    .dataframe tbody tr th {\n",
       "        vertical-align: top;\n",
       "    }\n",
       "\n",
       "    .dataframe thead th {\n",
       "        text-align: right;\n",
       "    }\n",
       "</style>\n",
       "<table border=\"1\" class=\"dataframe\">\n",
       "  <thead>\n",
       "    <tr style=\"text-align: right;\">\n",
       "      <th></th>\n",
       "      <th>user_id</th>\n",
       "      <th>timestamp</th>\n",
       "      <th>group</th>\n",
       "      <th>landing_page</th>\n",
       "      <th>purchased</th>\n",
       "    </tr>\n",
       "  </thead>\n",
       "  <tbody>\n",
       "    <tr>\n",
       "      <th>230932</th>\n",
       "      <td>687898</td>\n",
       "      <td>2017-01-03 00:58:40.956</td>\n",
       "      <td>treatment</td>\n",
       "      <td>new_page</td>\n",
       "      <td>0</td>\n",
       "    </tr>\n",
       "    <tr>\n",
       "      <th>138426</th>\n",
       "      <td>732393</td>\n",
       "      <td>2017-01-08 02:10:14.280</td>\n",
       "      <td>treatment</td>\n",
       "      <td>new_page</td>\n",
       "      <td>0</td>\n",
       "    </tr>\n",
       "    <tr>\n",
       "      <th>211107</th>\n",
       "      <td>727265</td>\n",
       "      <td>2017-01-16 14:58:25.965</td>\n",
       "      <td>control</td>\n",
       "      <td>old_page</td>\n",
       "      <td>0</td>\n",
       "    </tr>\n",
       "    <tr>\n",
       "      <th>46790</th>\n",
       "      <td>682293</td>\n",
       "      <td>2017-01-13 07:24:21.599</td>\n",
       "      <td>control</td>\n",
       "      <td>old_page</td>\n",
       "      <td>1</td>\n",
       "    </tr>\n",
       "    <tr>\n",
       "      <th>232965</th>\n",
       "      <td>935252</td>\n",
       "      <td>2017-01-15 22:18:57.098</td>\n",
       "      <td>treatment</td>\n",
       "      <td>new_page</td>\n",
       "      <td>0</td>\n",
       "    </tr>\n",
       "  </tbody>\n",
       "</table>\n",
       "</div>"
      ],
      "text/plain": [
       "       user_id               timestamp      group landing_page purchased\n",
       "230932  687898 2017-01-03 00:58:40.956  treatment     new_page         0\n",
       "138426  732393 2017-01-08 02:10:14.280  treatment     new_page         0\n",
       "211107  727265 2017-01-16 14:58:25.965    control     old_page         0\n",
       "46790   682293 2017-01-13 07:24:21.599    control     old_page         1\n",
       "232965  935252 2017-01-15 22:18:57.098  treatment     new_page         0"
      ]
     },
     "execution_count": 270,
     "metadata": {},
     "output_type": "execute_result"
    }
   ],
   "source": [
    "# data preview after data type changes\n",
    "df.sample(5)"
   ]
  },
  {
   "cell_type": "code",
   "execution_count": 271,
   "id": "c9f78e90-c9f4-4b9b-97ad-df6e84f7514b",
   "metadata": {},
   "outputs": [
    {
     "name": "stdout",
     "output_type": "stream",
     "text": [
      "<class 'pandas.core.frame.DataFrame'>\n",
      "RangeIndex: 294478 entries, 0 to 294477\n",
      "Data columns (total 5 columns):\n",
      " #   Column        Non-Null Count   Dtype         \n",
      "---  ------        --------------   -----         \n",
      " 0   user_id       294478 non-null  object        \n",
      " 1   timestamp     294478 non-null  datetime64[ns]\n",
      " 2   group         294478 non-null  object        \n",
      " 3   landing_page  294478 non-null  object        \n",
      " 4   purchased     294478 non-null  object        \n",
      "dtypes: datetime64[ns](1), object(4)\n",
      "memory usage: 11.2+ MB\n"
     ]
    }
   ],
   "source": [
    "#check data type again\n",
    "df.info()"
   ]
  },
  {
   "cell_type": "markdown",
   "id": "5af875bd-5cb8-4a29-bd2e-98c9c6b44cb2",
   "metadata": {
    "tags": []
   },
   "source": [
    "# Mathematical Calculation and Analysis"
   ]
  },
  {
   "cell_type": "markdown",
   "id": "7d85f0cd-6095-441d-95c8-7b9054a08b63",
   "metadata": {
    "tags": []
   },
   "source": [
    "## Central Tendency"
   ]
  },
  {
   "cell_type": "code",
   "execution_count": 272,
   "id": "f1afcb70-17d5-4fbd-aae1-c5bb44f5fb29",
   "metadata": {},
   "outputs": [
    {
     "name": "stdout",
     "output_type": "stream",
     "text": [
      "0    0\n",
      "dtype: object\n",
      "0    treatment\n",
      "dtype: object\n",
      "0    new_page\n",
      "1    old_page\n",
      "dtype: object\n"
     ]
    }
   ],
   "source": [
    "#view mode of purchased columns\n",
    "print(df['purchased'].mode())\n",
    "print(df['group'].mode())\n",
    "print(df['landing_page'].mode())"
   ]
  },
  {
   "cell_type": "markdown",
   "id": "a7ec9a55-ad75-44f8-97be-3cc44d7453d9",
   "metadata": {},
   "source": [
    "- Most of the people did not buy on the e-commerce, regardless on the landing pages.\n",
    "- Most of the user are a grouped treatement user\n",
    "- Base on the mode for all visitor, tha data distribution is multimodal"
   ]
  },
  {
   "cell_type": "code",
   "execution_count": 273,
   "id": "1cdfc685-b874-4749-9d0e-82e882aa3247",
   "metadata": {},
   "outputs": [],
   "source": [
    "#group buyer by date\n",
    "df['date'] = df['timestamp'].dt.date\n",
    "daily_buyer = df[['date','user_id']].groupby('date').count()"
   ]
  },
  {
   "cell_type": "code",
   "execution_count": 274,
   "id": "12a049c2-65ac-482c-b8af-9af00fc4485d",
   "metadata": {},
   "outputs": [
    {
     "data": {
      "text/html": [
       "<div>\n",
       "<style scoped>\n",
       "    .dataframe tbody tr th:only-of-type {\n",
       "        vertical-align: middle;\n",
       "    }\n",
       "\n",
       "    .dataframe tbody tr th {\n",
       "        vertical-align: top;\n",
       "    }\n",
       "\n",
       "    .dataframe thead th {\n",
       "        text-align: right;\n",
       "    }\n",
       "</style>\n",
       "<table border=\"1\" class=\"dataframe\">\n",
       "  <thead>\n",
       "    <tr style=\"text-align: right;\">\n",
       "      <th></th>\n",
       "      <th>user_id</th>\n",
       "    </tr>\n",
       "    <tr>\n",
       "      <th>date</th>\n",
       "      <th></th>\n",
       "    </tr>\n",
       "  </thead>\n",
       "  <tbody>\n",
       "    <tr>\n",
       "      <th>2017-01-02</th>\n",
       "      <td>5783</td>\n",
       "    </tr>\n",
       "    <tr>\n",
       "      <th>2017-01-03</th>\n",
       "      <td>13394</td>\n",
       "    </tr>\n",
       "    <tr>\n",
       "      <th>2017-01-04</th>\n",
       "      <td>13284</td>\n",
       "    </tr>\n",
       "    <tr>\n",
       "      <th>2017-01-05</th>\n",
       "      <td>13124</td>\n",
       "    </tr>\n",
       "    <tr>\n",
       "      <th>2017-01-06</th>\n",
       "      <td>13528</td>\n",
       "    </tr>\n",
       "  </tbody>\n",
       "</table>\n",
       "</div>"
      ],
      "text/plain": [
       "            user_id\n",
       "date               \n",
       "2017-01-02     5783\n",
       "2017-01-03    13394\n",
       "2017-01-04    13284\n",
       "2017-01-05    13124\n",
       "2017-01-06    13528"
      ]
     },
     "execution_count": 274,
     "metadata": {},
     "output_type": "execute_result"
    }
   ],
   "source": [
    "#view data\n",
    "daily_buyer.head()"
   ]
  },
  {
   "cell_type": "code",
   "execution_count": 275,
   "id": "2ed142dd-ae78-45bb-90ee-610e809c2880",
   "metadata": {},
   "outputs": [
    {
     "name": "stdout",
     "output_type": "stream",
     "text": [
      "12803.391304347826\n",
      "13381.0\n"
     ]
    }
   ],
   "source": [
    "#view meean and Median\n",
    "print (daily_buyer['user_id'].mean())\n",
    "print (daily_buyer['user_id'].median())"
   ]
  },
  {
   "cell_type": "markdown",
   "id": "23c6f45b-ce51-4117-a24e-05aee827d186",
   "metadata": {},
   "source": [
    "- Based on the data, the average user who visits per day is 12803\n",
    "- Based on the data, the median user who visits per day is 13381\n",
    "- The mean is smaller than the median, so there is a possibility that the data is negatively skewed,even though it's not much, so there is also a possiblity that this is normally distributed data.  "
   ]
  },
  {
   "cell_type": "code",
   "execution_count": 276,
   "id": "1043f1a4-76c6-4e22-8a03-17f90004fdcb",
   "metadata": {},
   "outputs": [
    {
     "data": {
      "text/html": [
       "<div>\n",
       "<style scoped>\n",
       "    .dataframe tbody tr th:only-of-type {\n",
       "        vertical-align: middle;\n",
       "    }\n",
       "\n",
       "    .dataframe tbody tr th {\n",
       "        vertical-align: top;\n",
       "    }\n",
       "\n",
       "    .dataframe thead th {\n",
       "        text-align: right;\n",
       "    }\n",
       "</style>\n",
       "<table border=\"1\" class=\"dataframe\">\n",
       "  <thead>\n",
       "    <tr style=\"text-align: right;\">\n",
       "      <th></th>\n",
       "      <th>user_id</th>\n",
       "      <th>timestamp</th>\n",
       "      <th>group</th>\n",
       "      <th>landing_page</th>\n",
       "      <th>purchased</th>\n",
       "      <th>date</th>\n",
       "    </tr>\n",
       "  </thead>\n",
       "  <tbody>\n",
       "    <tr>\n",
       "      <th>0</th>\n",
       "      <td>851104</td>\n",
       "      <td>2017-01-21 22:11:48.556</td>\n",
       "      <td>control</td>\n",
       "      <td>old_page</td>\n",
       "      <td>0</td>\n",
       "      <td>2017-01-21</td>\n",
       "    </tr>\n",
       "    <tr>\n",
       "      <th>1</th>\n",
       "      <td>804228</td>\n",
       "      <td>2017-01-12 08:01:45.159</td>\n",
       "      <td>control</td>\n",
       "      <td>old_page</td>\n",
       "      <td>0</td>\n",
       "      <td>2017-01-12</td>\n",
       "    </tr>\n",
       "    <tr>\n",
       "      <th>2</th>\n",
       "      <td>661590</td>\n",
       "      <td>2017-01-11 16:55:06.154</td>\n",
       "      <td>treatment</td>\n",
       "      <td>new_page</td>\n",
       "      <td>0</td>\n",
       "      <td>2017-01-11</td>\n",
       "    </tr>\n",
       "    <tr>\n",
       "      <th>3</th>\n",
       "      <td>853541</td>\n",
       "      <td>2017-01-08 18:28:03.143</td>\n",
       "      <td>treatment</td>\n",
       "      <td>new_page</td>\n",
       "      <td>0</td>\n",
       "      <td>2017-01-08</td>\n",
       "    </tr>\n",
       "    <tr>\n",
       "      <th>5</th>\n",
       "      <td>936923</td>\n",
       "      <td>2017-01-10 15:20:49.083</td>\n",
       "      <td>control</td>\n",
       "      <td>old_page</td>\n",
       "      <td>0</td>\n",
       "      <td>2017-01-10</td>\n",
       "    </tr>\n",
       "  </tbody>\n",
       "</table>\n",
       "</div>"
      ],
      "text/plain": [
       "  user_id               timestamp      group landing_page purchased  \\\n",
       "0  851104 2017-01-21 22:11:48.556    control     old_page         0   \n",
       "1  804228 2017-01-12 08:01:45.159    control     old_page         0   \n",
       "2  661590 2017-01-11 16:55:06.154  treatment     new_page         0   \n",
       "3  853541 2017-01-08 18:28:03.143  treatment     new_page         0   \n",
       "5  936923 2017-01-10 15:20:49.083    control     old_page         0   \n",
       "\n",
       "         date  \n",
       "0  2017-01-21  \n",
       "1  2017-01-12  \n",
       "2  2017-01-11  \n",
       "3  2017-01-08  \n",
       "5  2017-01-10  "
      ]
     },
     "execution_count": 276,
     "metadata": {},
     "output_type": "execute_result"
    }
   ],
   "source": [
    "#create new table to see how many people did not buy\n",
    "df0=df[df['purchased']==0]\n",
    "\n",
    "#view data\n",
    "df0.head()"
   ]
  },
  {
   "cell_type": "code",
   "execution_count": 277,
   "id": "1508e8e4-5aa1-40e7-af56-7b11404467a8",
   "metadata": {},
   "outputs": [],
   "source": [
    "#group buyer by date\n",
    "daily_buyer0 = df0[['date','user_id']].groupby('date').count()"
   ]
  },
  {
   "cell_type": "code",
   "execution_count": 278,
   "id": "7c2c2863-0caa-442e-8099-c41a1e8ed28b",
   "metadata": {},
   "outputs": [
    {
     "data": {
      "text/html": [
       "<div>\n",
       "<style scoped>\n",
       "    .dataframe tbody tr th:only-of-type {\n",
       "        vertical-align: middle;\n",
       "    }\n",
       "\n",
       "    .dataframe tbody tr th {\n",
       "        vertical-align: top;\n",
       "    }\n",
       "\n",
       "    .dataframe thead th {\n",
       "        text-align: right;\n",
       "    }\n",
       "</style>\n",
       "<table border=\"1\" class=\"dataframe\">\n",
       "  <thead>\n",
       "    <tr style=\"text-align: right;\">\n",
       "      <th></th>\n",
       "      <th>user_id</th>\n",
       "    </tr>\n",
       "    <tr>\n",
       "      <th>date</th>\n",
       "      <th></th>\n",
       "    </tr>\n",
       "  </thead>\n",
       "  <tbody>\n",
       "    <tr>\n",
       "      <th>2017-01-02</th>\n",
       "      <td>5073</td>\n",
       "    </tr>\n",
       "    <tr>\n",
       "      <th>2017-01-03</th>\n",
       "      <td>11872</td>\n",
       "    </tr>\n",
       "    <tr>\n",
       "      <th>2017-01-04</th>\n",
       "      <td>11701</td>\n",
       "    </tr>\n",
       "    <tr>\n",
       "      <th>2017-01-05</th>\n",
       "      <td>11565</td>\n",
       "    </tr>\n",
       "    <tr>\n",
       "      <th>2017-01-06</th>\n",
       "      <td>11902</td>\n",
       "    </tr>\n",
       "  </tbody>\n",
       "</table>\n",
       "</div>"
      ],
      "text/plain": [
       "            user_id\n",
       "date               \n",
       "2017-01-02     5073\n",
       "2017-01-03    11872\n",
       "2017-01-04    11701\n",
       "2017-01-05    11565\n",
       "2017-01-06    11902"
      ]
     },
     "execution_count": 278,
     "metadata": {},
     "output_type": "execute_result"
    }
   ],
   "source": [
    "#view data\n",
    "daily_buyer0.head()"
   ]
  },
  {
   "cell_type": "code",
   "execution_count": 279,
   "id": "ffc20b37-4fa5-4396-aa6e-bd1ff9c0844b",
   "metadata": {},
   "outputs": [
    {
     "name": "stdout",
     "output_type": "stream",
     "text": [
      "11271.347826086956\n",
      "11800.0\n"
     ]
    }
   ],
   "source": [
    "#view meean and Median\n",
    "print (daily_buyer0['user_id'].mean())\n",
    "print (daily_buyer0['user_id'].median())"
   ]
  },
  {
   "cell_type": "markdown",
   "id": "d7612c9d-b65c-4240-9327-40dde5c4efe5",
   "metadata": {},
   "source": [
    "- Based on the data, the average people who does not buy per day but visiting is 11271\n",
    "- Based on the data, the median people who does not buy per day but visiting  is 11800\n",
    "- The mean is smaller than the median, so there is a possibility that the data is negatively skewed, even though it's not much, so there is also a possiblity that this is normally distributed data.  "
   ]
  },
  {
   "cell_type": "code",
   "execution_count": 280,
   "id": "b9c9ea0c-40cf-420d-8bf6-b7c7aba934b7",
   "metadata": {},
   "outputs": [
    {
     "data": {
      "text/html": [
       "<div>\n",
       "<style scoped>\n",
       "    .dataframe tbody tr th:only-of-type {\n",
       "        vertical-align: middle;\n",
       "    }\n",
       "\n",
       "    .dataframe tbody tr th {\n",
       "        vertical-align: top;\n",
       "    }\n",
       "\n",
       "    .dataframe thead th {\n",
       "        text-align: right;\n",
       "    }\n",
       "</style>\n",
       "<table border=\"1\" class=\"dataframe\">\n",
       "  <thead>\n",
       "    <tr style=\"text-align: right;\">\n",
       "      <th></th>\n",
       "      <th>user_id</th>\n",
       "      <th>timestamp</th>\n",
       "      <th>group</th>\n",
       "      <th>landing_page</th>\n",
       "      <th>purchased</th>\n",
       "      <th>date</th>\n",
       "    </tr>\n",
       "  </thead>\n",
       "  <tbody>\n",
       "    <tr>\n",
       "      <th>4</th>\n",
       "      <td>864975</td>\n",
       "      <td>2017-01-21 01:52:26.210</td>\n",
       "      <td>control</td>\n",
       "      <td>old_page</td>\n",
       "      <td>1</td>\n",
       "      <td>2017-01-21</td>\n",
       "    </tr>\n",
       "    <tr>\n",
       "      <th>6</th>\n",
       "      <td>679687</td>\n",
       "      <td>2017-01-19 03:26:46.940</td>\n",
       "      <td>treatment</td>\n",
       "      <td>new_page</td>\n",
       "      <td>1</td>\n",
       "      <td>2017-01-19</td>\n",
       "    </tr>\n",
       "    <tr>\n",
       "      <th>8</th>\n",
       "      <td>817355</td>\n",
       "      <td>2017-01-04 17:58:08.979</td>\n",
       "      <td>treatment</td>\n",
       "      <td>new_page</td>\n",
       "      <td>1</td>\n",
       "      <td>2017-01-04</td>\n",
       "    </tr>\n",
       "    <tr>\n",
       "      <th>9</th>\n",
       "      <td>839785</td>\n",
       "      <td>2017-01-15 18:11:06.610</td>\n",
       "      <td>treatment</td>\n",
       "      <td>new_page</td>\n",
       "      <td>1</td>\n",
       "      <td>2017-01-15</td>\n",
       "    </tr>\n",
       "    <tr>\n",
       "      <th>15</th>\n",
       "      <td>644214</td>\n",
       "      <td>2017-01-22 02:05:21.719</td>\n",
       "      <td>control</td>\n",
       "      <td>old_page</td>\n",
       "      <td>1</td>\n",
       "      <td>2017-01-22</td>\n",
       "    </tr>\n",
       "  </tbody>\n",
       "</table>\n",
       "</div>"
      ],
      "text/plain": [
       "   user_id               timestamp      group landing_page purchased  \\\n",
       "4   864975 2017-01-21 01:52:26.210    control     old_page         1   \n",
       "6   679687 2017-01-19 03:26:46.940  treatment     new_page         1   \n",
       "8   817355 2017-01-04 17:58:08.979  treatment     new_page         1   \n",
       "9   839785 2017-01-15 18:11:06.610  treatment     new_page         1   \n",
       "15  644214 2017-01-22 02:05:21.719    control     old_page         1   \n",
       "\n",
       "          date  \n",
       "4   2017-01-21  \n",
       "6   2017-01-19  \n",
       "8   2017-01-04  \n",
       "9   2017-01-15  \n",
       "15  2017-01-22  "
      ]
     },
     "execution_count": 280,
     "metadata": {},
     "output_type": "execute_result"
    }
   ],
   "source": [
    "#create new table to see how many people did buy\n",
    "df1=df[df['purchased']==1]\n",
    "\n",
    "#view data\n",
    "df1.head()"
   ]
  },
  {
   "cell_type": "code",
   "execution_count": 281,
   "id": "70892d03-fd61-49b8-834f-b04c0c2d8c90",
   "metadata": {},
   "outputs": [],
   "source": [
    "#group buyer by date\n",
    "daily_buyer1 = df1[['date','user_id']].groupby('date').count()"
   ]
  },
  {
   "cell_type": "code",
   "execution_count": 282,
   "id": "37dda593-5bdf-4133-98fc-feebcaaa5c4f",
   "metadata": {},
   "outputs": [
    {
     "data": {
      "text/html": [
       "<div>\n",
       "<style scoped>\n",
       "    .dataframe tbody tr th:only-of-type {\n",
       "        vertical-align: middle;\n",
       "    }\n",
       "\n",
       "    .dataframe tbody tr th {\n",
       "        vertical-align: top;\n",
       "    }\n",
       "\n",
       "    .dataframe thead th {\n",
       "        text-align: right;\n",
       "    }\n",
       "</style>\n",
       "<table border=\"1\" class=\"dataframe\">\n",
       "  <thead>\n",
       "    <tr style=\"text-align: right;\">\n",
       "      <th></th>\n",
       "      <th>user_id</th>\n",
       "    </tr>\n",
       "    <tr>\n",
       "      <th>date</th>\n",
       "      <th></th>\n",
       "    </tr>\n",
       "  </thead>\n",
       "  <tbody>\n",
       "    <tr>\n",
       "      <th>2017-01-02</th>\n",
       "      <td>710</td>\n",
       "    </tr>\n",
       "    <tr>\n",
       "      <th>2017-01-03</th>\n",
       "      <td>1522</td>\n",
       "    </tr>\n",
       "    <tr>\n",
       "      <th>2017-01-04</th>\n",
       "      <td>1583</td>\n",
       "    </tr>\n",
       "    <tr>\n",
       "      <th>2017-01-05</th>\n",
       "      <td>1559</td>\n",
       "    </tr>\n",
       "    <tr>\n",
       "      <th>2017-01-06</th>\n",
       "      <td>1626</td>\n",
       "    </tr>\n",
       "  </tbody>\n",
       "</table>\n",
       "</div>"
      ],
      "text/plain": [
       "            user_id\n",
       "date               \n",
       "2017-01-02      710\n",
       "2017-01-03     1522\n",
       "2017-01-04     1583\n",
       "2017-01-05     1559\n",
       "2017-01-06     1626"
      ]
     },
     "execution_count": 282,
     "metadata": {},
     "output_type": "execute_result"
    }
   ],
   "source": [
    "#view dta\n",
    "daily_buyer1.head()"
   ]
  },
  {
   "cell_type": "code",
   "execution_count": 283,
   "id": "fd1d7904-a0a0-491c-b52b-bfb6979c106d",
   "metadata": {},
   "outputs": [
    {
     "name": "stdout",
     "output_type": "stream",
     "text": [
      "1532.0434782608695\n",
      "1593.0\n"
     ]
    }
   ],
   "source": [
    "#view meean and Median\n",
    "print (daily_buyer1['user_id'].mean())\n",
    "print (daily_buyer1['user_id'].median())"
   ]
  },
  {
   "cell_type": "markdown",
   "id": "bcd4309b-7072-4aee-a8b0-375aca42dea2",
   "metadata": {},
   "source": [
    "- Based on the data, the average buyer per day is 1532.04\n",
    "- Based on the data, the median buyer is 1593\n",
    "- The mean is smaller than the median, so there is a possibility that the data is negatively skewed, even though it's not much, so there is also a possiblity that this is normally distributed data.  "
   ]
  },
  {
   "cell_type": "markdown",
   "id": "89a96123-2140-4e8f-8bdd-722ab8a1f70d",
   "metadata": {
    "tags": []
   },
   "source": [
    "## A/B Testing"
   ]
  },
  {
   "cell_type": "markdown",
   "id": "c430e1b7-ebd9-4ad0-9955-c3d93908e9f1",
   "metadata": {},
   "source": [
    "- Assumption: The original data is a sample data"
   ]
  },
  {
   "cell_type": "code",
   "execution_count": 284,
   "id": "a47a6778-56d3-4e14-9457-fd28d70b4430",
   "metadata": {},
   "outputs": [
    {
     "name": "stdout",
     "output_type": "stream",
     "text": [
      "average people who did buy: 1532.0434782608695\n",
      "average people who did not buy: 11271.347826086956\n"
     ]
    }
   ],
   "source": [
    "#show the mean\n",
    "print('average people who did buy:',daily_buyer1['user_id'].mean())\n",
    "print('average people who did not buy:',daily_buyer0['user_id'].mean())"
   ]
  },
  {
   "cell_type": "markdown",
   "id": "de096c86-8572-462a-82bc-12740245927c",
   "metadata": {},
   "source": [
    "Critical Value: 0,05"
   ]
  },
  {
   "cell_type": "markdown",
   "id": "2a298c09-7d24-4465-be9a-ee9dc03712f2",
   "metadata": {},
   "source": [
    "Our hypothesis on this case:\n",
    "\n",
    "**H0: μ_ people who buy = μ_ people who did not buy**\n",
    "\n",
    "**H1: μ_people who buy != μ_people who did not buy**"
   ]
  },
  {
   "cell_type": "code",
   "execution_count": 285,
   "id": "ca7edceb-15df-4f34-a8c6-99c79dbdb328",
   "metadata": {},
   "outputs": [
    {
     "name": "stdout",
     "output_type": "stream",
     "text": [
      "P-value: 7.131181555098006e-29\n",
      "t-statistics: -26.78047478845237\n"
     ]
    }
   ],
   "source": [
    "#hypothesis testing\n",
    "t_stat, p_val = stats.ttest_ind(daily_buyer1,daily_buyer0)\n",
    "\n",
    "print('P-value:',p_val[0]) #the p-value isn't divided by 2 since the output is two-sided p-value\n",
    "print('t-statistics:',t_stat[0])"
   ]
  },
  {
   "cell_type": "markdown",
   "id": "9aea3193-778e-497a-9ba7-f8bfe643ffce",
   "metadata": {},
   "source": [
    "- The P Value is much higher than critical Value, so that means H0 is accepted\n",
    "- That means the average of people who does not buy is does not significantly different tgan average of people who buy in the e-commerce"
   ]
  },
  {
   "cell_type": "markdown",
   "id": "57f63b53-e890-4151-9b3f-635874796309",
   "metadata": {
    "tags": []
   },
   "source": [
    "# Hasil"
   ]
  },
  {
   "cell_type": "markdown",
   "id": "5854104c-f59b-4e6f-a242-73e922d46c97",
   "metadata": {
    "tags": []
   },
   "source": [
    "## Central Tendency"
   ]
  },
  {
   "cell_type": "markdown",
   "id": "3bfecffa-0a74-44fa-b8dd-da4d00aeddfd",
   "metadata": {},
   "source": [
    "- Based on the mode Most of the people did not buy on the e-commerce(0 is dominant), regardless on the landing pages.\n",
    "- Most of the user are a grouped treatement user\n",
    "- Base on the mode, for all visitor tha data distribution is multimodal\n",
    "- Based on the data, the average user who visits per day is 12803\n",
    "- Based on the data, the median user who visits per day is 13381\n",
    "- The mean is smaller than the median, so there is a possibility that the data is negatively skewed,even though it's not much, so there is also a possiblity that this is normally distributed data.  \n",
    "- Based on the data, the average people who does not buy per day but visiting is 11271\n",
    "- Based on the data, the median people who does not buy per day but visiting  is 11800\n",
    "- The mean is smaller than the median, so there is a possibility that the data is negatively skewed, even though it's not much, so there is also a possiblity that this is normally distributed data. \n",
    "- Based on the data, the average buyer per day is 1532.04\n",
    "- Based on the data, the median buyer is 1593\n",
    "- The mean is smaller than the median, so there is a possibility that the data is negatively skewed, even though it's not much, so there is also a possiblity that this is normally distributed data. "
   ]
  },
  {
   "cell_type": "markdown",
   "id": "6dbe63e0-f734-4016-9f9d-2a21bf326798",
   "metadata": {},
   "source": [
    "## AB Testing"
   ]
  },
  {
   "cell_type": "markdown",
   "id": "74144487-fb16-479b-8b37-460c4b4c5b61",
   "metadata": {},
   "source": [
    "- The P Value is much higher than critical Value, so that means H0 is accepted\n",
    "- That means the average of people who does not buy is does not significantly different tgan average of people who buy in the e-commerce"
   ]
  }
 ],
 "metadata": {
  "kernelspec": {
   "display_name": "Python 3 (ipykernel)",
   "language": "python",
   "name": "python3"
  },
  "language_info": {
   "codemirror_mode": {
    "name": "ipython",
    "version": 3
   },
   "file_extension": ".py",
   "mimetype": "text/x-python",
   "name": "python",
   "nbconvert_exporter": "python",
   "pygments_lexer": "ipython3",
   "version": "3.9.7"
  }
 },
 "nbformat": 4,
 "nbformat_minor": 5
}
